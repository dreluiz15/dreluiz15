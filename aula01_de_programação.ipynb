{
  "cells": [
    {
      "cell_type": "markdown",
      "metadata": {
        "id": "view-in-github",
        "colab_type": "text"
      },
      "source": [
        "<a href=\"https://colab.research.google.com/github/dreluiz15/dreluiz15/blob/main/aula01_de_programa%C3%A7%C3%A3o.ipynb\" target=\"_parent\"><img src=\"https://colab.research.google.com/assets/colab-badge.svg\" alt=\"Open In Colab\"/></a>"
      ]
    },
    {
      "cell_type": "markdown",
      "metadata": {
        "id": "HIA7nrGDZUFs"
      },
      "source": []
    },
    {
      "cell_type": "code",
      "execution_count": null,
      "metadata": {
        "colab": {
          "background_save": true,
          "base_uri": "https://localhost:8080/"
        },
        "id": "-dIGhGO2Siss",
        "outputId": "68c3c8f9-de03-416e-988f-40610f78861d"
      },
      "outputs": [
        {
          "name": "stdout",
          "output_type": "stream",
          "text": [
            "# # # sistema de pedidos #  # #\n",
            "\n"
          ]
        }
      ],
      "source": [
        "print('# # # sistema de pedidos # # #')\n",
        "print()\n",
        "bebida = input('qual bebida vc gosta')\n",
        "comida = input('qual comida vc gosta')\n",
        "\n",
        "valorbebida =5\n",
        "valorcomida =10\n",
        "\n",
        "conta = valorbebida + valorcomida\n",
        "\n",
        "\n",
        "print('totalapagar:',conta)"
      ]
    },
    {
      "cell_type": "code",
      "execution_count": null,
      "metadata": {
        "colab": {
          "base_uri": "https://localhost:8080/"
        },
        "id": "GLUucdpUN5oh",
        "outputId": "58609641-d5d1-4499-acc1-5a18153d8988"
      },
      "outputs": [
        {
          "name": "stdout",
          "output_type": "stream",
          "text": [
            "# # # Sistema de Pedidos # # #\n",
            "\n",
            "Qual seu nome: Andre\n",
            "qual sua comida predileta: Frango\n",
            "qual sua Bebida predileta: Fanta\n",
            "\n",
            "pedido \n",
            "nome: Andre \n",
            "seu pedido: Frango\n",
            "Bebida: Fanta\n",
            "total a pagar: 65\n"
          ]
        }
      ],
      "source": [
        "print('# # # Sistema de Pedidos # # #')\n",
        "print()\n",
        "nome = input('Qual seu nome: ')\n",
        "comida = input('qual sua comida predileta: ')\n",
        "bebida = input('qual sua Bebida predileta: ')\n",
        "\n",
        "valorComida = 50\n",
        "valorBebida = 15\n",
        "\n",
        "conta = valorComida + valorBebida\n",
        "\n",
        "\n",
        "print()\n",
        "print('pedido ')\n",
        "print('nome:', nome, '\\nseu pedido:', comida)\n",
        "print('Bebida:',bebida)\n",
        "print('total a pagar:',conta)"
      ]
    },
    {
      "cell_type": "code",
      "execution_count": null,
      "metadata": {
        "id": "gK8qKva113za"
      },
      "outputs": [],
      "source": []
    },
    {
      "cell_type": "code",
      "execution_count": null,
      "metadata": {
        "colab": {
          "base_uri": "https://localhost:8080/"
        },
        "id": "1unJXN9PeqMz",
        "outputId": "2c396e38-2d40-4b07-e39b-d2ef9a9272a5"
      },
      "outputs": [
        {
          "name": "stdout",
          "output_type": "stream",
          "text": [
            "True\n"
          ]
        }
      ],
      "source": [
        "# os tipos de dados\n",
        "# string (str) - textos\n",
        "# integer (int) - números inteiros\n",
        "# Float (float) - númeos decimais\n",
        "# boleano (bool) - números Boleanos ( verdadeiros e falso, 0 1)\n",
        "n1 = 50.5\n",
        "n2 = 20\n",
        "\n",
        "teste = n1 + n2\n",
        "\n",
        "desafio = (n1 != n2)\n",
        "\n",
        "print(desafio)\n",
        "\n"
      ]
    },
    {
      "cell_type": "code",
      "execution_count": null,
      "metadata": {
        "id": "Z1OckzeQVLqv"
      },
      "outputs": [],
      "source": [
        "# aula 01 - teste básico\n",
        "#sintaxe básica\n",
        "#declação de variáveis\n",
        "#entrada e saída de dados (printy e input)\n",
        "#comentar o código\n",
        "#trabalhar no formato de notebook\n"
      ]
    }
  ],
  "metadata": {
    "colab": {
      "provenance": [],
      "authorship_tag": "ABX9TyNtnY/zwfPmeNcA/p0heWa4",
      "include_colab_link": true
    },
    "kernelspec": {
      "display_name": "Python 3",
      "name": "python3"
    },
    "language_info": {
      "name": "python"
    }
  },
  "nbformat": 4,
  "nbformat_minor": 0
}